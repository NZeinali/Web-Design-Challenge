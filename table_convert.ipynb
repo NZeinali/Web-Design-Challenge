{
 "cells": [
  {
   "cell_type": "code",
   "execution_count": 50,
   "source": [
    "# Python program to convert\r\n",
    "# CSV to HTML Table\r\n",
    "\r\n",
    "\r\n",
    "import pandas as pd\r\n",
    "\r\n",
    "# to read csv file named \"samplee\"\r\n",
    "file_path = \"Resources/cities.csv\"\r\n",
    "cities = pd.read_csv(file_path)\r\n",
    "\r\n",
    "cities.reset_index(drop=True, inplace=True)\r\n",
    "\r\n",
    "# to save as html file\r\n",
    "# named as \"Table\"\r\n",
    "cities.to_html(\"Table.html\", index= False)\r\n",
    "\r\n",
    "\r\n"
   ],
   "outputs": [],
   "metadata": {}
  }
 ],
 "metadata": {
  "orig_nbformat": 4,
  "language_info": {
   "name": "python",
   "version": "3.6.13",
   "mimetype": "text/x-python",
   "codemirror_mode": {
    "name": "ipython",
    "version": 3
   },
   "pygments_lexer": "ipython3",
   "nbconvert_exporter": "python",
   "file_extension": ".py"
  },
  "kernelspec": {
   "name": "python3",
   "display_name": "Python 3.6.13 64-bit ('pythondata': conda)"
  },
  "interpreter": {
   "hash": "0b4f2527d7d2df3f966db050fbea417d67b834030558d4d126ba89140d54f62d"
  }
 },
 "nbformat": 4,
 "nbformat_minor": 2
}